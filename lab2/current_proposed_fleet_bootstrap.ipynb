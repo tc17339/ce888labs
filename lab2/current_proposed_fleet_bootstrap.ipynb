{
 "cells": [
  {
   "cell_type": "code",
   "execution_count": 1,
   "metadata": {},
   "outputs": [],
   "source": [
    "import matplotlib\n",
    "matplotlib.use('Agg')\n",
    "\n",
    "import pandas as pd\n",
    "import random\n",
    "import matplotlib.pyplot as plt\n",
    "import seaborn as sns\n",
    "\n",
    "import numpy as np "
   ]
  },
  {
   "cell_type": "code",
   "execution_count": 2,
   "metadata": {},
   "outputs": [],
   "source": [
    "def boostrap(statistic_func, iterations, data):\n",
    "\tsamples  = np.random.choice(data,replace = True, size = [iterations, len(data)])\n",
    "\t#print samples.shape\n",
    "\tdata_mean = statistic_func(data)\n",
    "\tvals = []\n",
    "\tfor sample in samples:\n",
    "\t\tsta = statistic_func(sample)\n",
    "\t\t#print sta\n",
    "\t\tvals.append(sta)\n",
    "\tb = np.array(vals)\n",
    "\t#print b\n",
    "\tlower, upper = np.percentile(b, [2.5, 97.5])\n",
    "\treturn data_mean,lower, upper"
   ]
  },
  {
   "cell_type": "code",
   "execution_count": 3,
   "metadata": {},
   "outputs": [],
   "source": [
    "if __name__ == \"__main__\":\n",
    "\tdf = pd.read_csv('./vehicles.csv')\n",
    "\t#print df.columns"
   ]
  },
  {
   "cell_type": "code",
   "execution_count": 15,
   "metadata": {},
   "outputs": [],
   "source": [
    "data_1 = df.dropna()\n",
    "data = data_1.values.T[0]"
   ]
  },
  {
   "cell_type": "code",
   "execution_count": 17,
   "metadata": {},
   "outputs": [],
   "source": [
    "boots = []\n",
    "for i in range(100,100000,1000):\n",
    "\tboot = boostrap(np.std, i, data)\n",
    "\tboots.append([i,boot[0], \"mean\"])\n",
    "\tboots.append([i,boot[1], \"lower\"])\n",
    "\tboots.append([i,boot[2], \"upper\"])\n"
   ]
  },
  {
   "cell_type": "code",
   "execution_count": 18,
   "metadata": {},
   "outputs": [],
   "source": [
    "df_boot = pd.DataFrame(boots,  columns=['Boostrap Iterations','Mean',\"Value\"])\n",
    "sns_plot = sns.lmplot(df_boot.columns[0],df_boot.columns[1], data=df_boot, fit_reg=False,  hue=\"Value\")"
   ]
  },
  {
   "cell_type": "code",
   "execution_count": 19,
   "metadata": {},
   "outputs": [
    {
     "data": {
      "text/plain": [
       "(0, 100000)"
      ]
     },
     "execution_count": 19,
     "metadata": {},
     "output_type": "execute_result"
    }
   ],
   "source": [
    "sns_plot.axes[0,0].set_ylim(0,)\n",
    "sns_plot.axes[0,0].set_xlim(0,100000)"
   ]
  },
  {
   "cell_type": "code",
   "execution_count": 20,
   "metadata": {},
   "outputs": [],
   "source": [
    "sns_plot.savefig(\"current_fleet_bootstrap_confidence.png\",bbox_inches='tight')\n",
    "sns_plot.savefig(\"current_fleet_bootstrap_confidence.pdf\",bbox_inches='tight')"
   ]
  },
  {
   "cell_type": "code",
   "execution_count": 28,
   "metadata": {},
   "outputs": [
    {
     "name": "stdout",
     "output_type": "stream",
     "text": [
      "Mean: 16.025316455696203\n",
      "Var:  17.39176414036212\n",
      "standard deviation:  4.170343407965598\n"
     ]
    }
   ],
   "source": [
    "print (\"Mean:\",np.mean(data))\n",
    "print (\"Var: \",np.var(data))\n",
    "print(\"standard deviation: \",np.std(data))"
   ]
  },
  {
   "cell_type": "code",
   "execution_count": 30,
   "metadata": {},
   "outputs": [
    {
     "name": "stdout",
     "output_type": "stream",
     "text": [
      "[24. 27. 27. 25. 31. 35. 24. 19. 28. 23. 27. 20. 22. 18. 20. 31. 32. 31.\n",
      " 32. 24. 26. 29. 24. 24. 33. 33. 32. 28. 19. 32. 34. 26. 30. 22. 22. 33.\n",
      " 39. 36. 28. 27. 21. 24. 30. 34. 32. 38. 37. 30. 31. 37. 32. 47. 41. 45.\n",
      " 34. 33. 24. 32. 39. 35. 32. 37. 38. 34. 34. 32. 33. 32. 25. 24. 37. 31.\n",
      " 36. 36. 34. 38. 32. 38. 32.]\n"
     ]
    }
   ],
   "source": [
    "data = data_1.values.T[1]\n",
    "print(data)"
   ]
  },
  {
   "cell_type": "code",
   "execution_count": 31,
   "metadata": {},
   "outputs": [],
   "source": [
    "boots = []\n",
    "for i in range(100,100000,1000):\n",
    "\tboot = boostrap(np.std, i, data)\n",
    "\tboots.append([i,boot[0], \"mean\"])\n",
    "\tboots.append([i,boot[1], \"lower\"])\n",
    "\tboots.append([i,boot[2], \"upper\"])\n"
   ]
  },
  {
   "cell_type": "code",
   "execution_count": 32,
   "metadata": {},
   "outputs": [],
   "source": [
    "df_boot = pd.DataFrame(boots,  columns=['Boostrap Iterations','Mean',\"Value\"])\n",
    "sns_plot1 = sns.lmplot(df_boot.columns[0],df_boot.columns[1], data=df_boot, fit_reg=False,  hue=\"Value\")"
   ]
  },
  {
   "cell_type": "code",
   "execution_count": 33,
   "metadata": {},
   "outputs": [
    {
     "data": {
      "text/plain": [
       "(0, 100000)"
      ]
     },
     "execution_count": 33,
     "metadata": {},
     "output_type": "execute_result"
    }
   ],
   "source": [
    "sns_plot1.axes[0,0].set_ylim(0,)\n",
    "sns_plot1.axes[0,0].set_xlim(0,100000)\n"
   ]
  },
  {
   "cell_type": "code",
   "execution_count": 34,
   "metadata": {},
   "outputs": [],
   "source": [
    "sns_plot1.savefig(\"proposed_fleet_bootstrap_confidence.png\",bbox_inches='tight')\n",
    "sns_plot1.savefig(\"proposed_fleet_bootstrap_confidence.pdf\",bbox_inches='tight')"
   ]
  },
  {
   "cell_type": "code",
   "execution_count": 35,
   "metadata": {},
   "outputs": [
    {
     "name": "stdout",
     "output_type": "stream",
     "text": [
      "Mean: 30.481012658227847\n",
      "Var:  36.83191796186508\n",
      "standard deviation:  6.068930545150857\n"
     ]
    }
   ],
   "source": [
    "print (\"Mean:\",np.mean(data))\n",
    "print (\"Var: \",np.var(data))\n",
    "print(\"standard deviation: \",np.std(data))"
   ]
  },
  {
   "cell_type": "code",
   "execution_count": null,
   "metadata": {},
   "outputs": [],
   "source": []
  }
 ],
 "metadata": {
  "kernelspec": {
   "display_name": "Python 3",
   "language": "python",
   "name": "python3"
  },
  "language_info": {
   "codemirror_mode": {
    "name": "ipython",
    "version": 3
   },
   "file_extension": ".py",
   "mimetype": "text/x-python",
   "name": "python",
   "nbconvert_exporter": "python",
   "pygments_lexer": "ipython3",
   "version": "3.6.3"
  }
 },
 "nbformat": 4,
 "nbformat_minor": 2
}
