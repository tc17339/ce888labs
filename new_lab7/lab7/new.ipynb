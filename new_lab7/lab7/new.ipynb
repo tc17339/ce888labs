{
 "cells": [
  {
   "cell_type": "code",
   "execution_count": 1,
   "metadata": {},
   "outputs": [
    {
     "name": "stderr",
     "output_type": "stream",
     "text": [
      "Using TensorFlow backend.\n"
     ]
    }
   ],
   "source": [
    "from keras.utils import np_utils\n",
    "import numpy as np\n",
    "np.random.seed(1337)  # for reproducibility\n",
    "\n",
    "from keras.datasets import mnist\n",
    "from keras.layers import Input, Dense, Activation, Dropout\n",
    "\n",
    "from keras.models import Model\n",
    "from keras.utils import np_utils\n",
    "from keras.models import Sequential\n",
    "from keras.layers import Dense\n"
   ]
  },
  {
   "cell_type": "code",
   "execution_count": 3,
   "metadata": {},
   "outputs": [],
   "source": [
    "batch_size = 128\n",
    "nb_classes = 10\n",
    "nb_epoch = 20"
   ]
  },
  {
   "cell_type": "code",
   "execution_count": 4,
   "metadata": {},
   "outputs": [],
   "source": [
    "(X_train, y_train), (X_test, y_test) = mnist.load_data()\n"
   ]
  },
  {
   "cell_type": "code",
   "execution_count": 5,
   "metadata": {},
   "outputs": [
    {
     "name": "stdout",
     "output_type": "stream",
     "text": [
      "(60000, 28, 28)\n"
     ]
    }
   ],
   "source": [
    "print(X_train.shape)\n"
   ]
  },
  {
   "cell_type": "code",
   "execution_count": 6,
   "metadata": {},
   "outputs": [
    {
     "name": "stdout",
     "output_type": "stream",
     "text": [
      "60000 train samples\n",
      "10000 test samples\n"
     ]
    }
   ],
   "source": [
    "X_train = X_train.reshape(60000, 784)\n",
    "X_test = X_test.reshape(10000, 784)\n",
    "X_train = X_train.astype('float32')\n",
    "X_test = X_test.astype('float32')\n",
    "X_train /= 255\n",
    "X_test /= 255\n",
    "print(X_train.shape[0], 'train samples')\n",
    "print(X_test.shape[0], 'test samples')\n"
   ]
  },
  {
   "cell_type": "code",
   "execution_count": 7,
   "metadata": {},
   "outputs": [],
   "source": [
    "Y_train = np_utils.to_categorical(y_train, nb_classes)\n",
    "Y_test = np_utils.to_categorical(y_test, nb_classes)\n"
   ]
  },
  {
   "cell_type": "code",
   "execution_count": 13,
   "metadata": {},
   "outputs": [],
   "source": [
    "inputs = Input(shape=(784,))\n",
    "model = Sequential()\n"
   ]
  },
  {
   "cell_type": "code",
   "execution_count": 14,
   "metadata": {},
   "outputs": [],
   "source": [
    "# model = Sequential([\n",
    "#     Dense(nb_classes, input_shape=(784,)),\n",
    "#     Activation('softmax'),\n",
    "#     Dense(64),\n",
    "#     Activation('relu'),\n",
    "# ])\n",
    "\n",
    "model.add(Dense(64, activation = 'relu',input_shape =(784,)))\n",
    "model.add(Dense(nb_classes,activation = \"softmax\"))\n",
    "          "
   ]
  },
  {
   "cell_type": "code",
   "execution_count": 15,
   "metadata": {},
   "outputs": [],
   "source": [
    "# model = Model(input=inputs, output=)\n",
    "model.compile(optimizer='adam',\n",
    "              loss='categorical_crossentropy',\n",
    "              \n",
    "              metrics=['accuracy'])\n"
   ]
  },
  {
   "cell_type": "code",
   "execution_count": 16,
   "metadata": {},
   "outputs": [
    {
     "name": "stdout",
     "output_type": "stream",
     "text": [
      "_________________________________________________________________\n",
      "Layer (type)                 Output Shape              Param #   \n",
      "=================================================================\n",
      "dense_6 (Dense)              (None, 64)                50240     \n",
      "_________________________________________________________________\n",
      "dense_7 (Dense)              (None, 10)                650       \n",
      "=================================================================\n",
      "Total params: 50,890\n",
      "Trainable params: 50,890\n",
      "Non-trainable params: 0\n",
      "_________________________________________________________________\n"
     ]
    }
   ],
   "source": [
    "model.summary()"
   ]
  },
  {
   "cell_type": "code",
   "execution_count": 17,
   "metadata": {
    "scrolled": true
   },
   "outputs": [
    {
     "name": "stderr",
     "output_type": "stream",
     "text": [
      "c:\\users\\chentao\\appdata\\local\\programs\\python\\python36\\lib\\site-packages\\keras\\models.py:942: UserWarning: The `nb_epoch` argument in `fit` has been renamed `epochs`.\n",
      "  warnings.warn('The `nb_epoch` argument in `fit` '\n"
     ]
    },
    {
     "name": "stdout",
     "output_type": "stream",
     "text": [
      "Train on 60000 samples, validate on 10000 samples\n",
      "Epoch 1/20\n",
      "60000/60000 [==============================] - 2s 34us/step - loss: 0.4247 - acc: 0.8831 - val_loss: 0.2402 - val_acc: 0.9306\n",
      "Epoch 2/20\n",
      "60000/60000 [==============================] - 2s 30us/step - loss: 0.2124 - acc: 0.9388 - val_loss: 0.1817 - val_acc: 0.9455\n",
      "Epoch 3/20\n",
      "60000/60000 [==============================] - 2s 35us/step - loss: 0.1617 - acc: 0.9538 - val_loss: 0.1457 - val_acc: 0.9568\n",
      "Epoch 4/20\n",
      "60000/60000 [==============================] - 2s 35us/step - loss: 0.1305 - acc: 0.9622 - val_loss: 0.1262 - val_acc: 0.9626\n",
      "Epoch 5/20\n",
      "60000/60000 [==============================] - 2s 31us/step - loss: 0.1092 - acc: 0.9679 - val_loss: 0.1152 - val_acc: 0.9668\n",
      "Epoch 6/20\n",
      "60000/60000 [==============================] - 2s 31us/step - loss: 0.0938 - acc: 0.9723 - val_loss: 0.1033 - val_acc: 0.9685\n",
      "Epoch 7/20\n",
      "60000/60000 [==============================] - 2s 30us/step - loss: 0.0822 - acc: 0.9760 - val_loss: 0.0980 - val_acc: 0.9706\n",
      "Epoch 8/20\n",
      "60000/60000 [==============================] - 2s 30us/step - loss: 0.0711 - acc: 0.9798 - val_loss: 0.0962 - val_acc: 0.9714\n",
      "Epoch 9/20\n",
      "60000/60000 [==============================] - 2s 31us/step - loss: 0.0641 - acc: 0.9815 - val_loss: 0.0875 - val_acc: 0.9732\n",
      "Epoch 10/20\n",
      "60000/60000 [==============================] - 2s 31us/step - loss: 0.0566 - acc: 0.9832 - val_loss: 0.0921 - val_acc: 0.9715\n",
      "Epoch 11/20\n",
      "60000/60000 [==============================] - 2s 34us/step - loss: 0.0508 - acc: 0.9854 - val_loss: 0.0856 - val_acc: 0.9744\n",
      "Epoch 12/20\n",
      "60000/60000 [==============================] - 2s 33us/step - loss: 0.0465 - acc: 0.9864 - val_loss: 0.0855 - val_acc: 0.9736\n",
      "Epoch 13/20\n",
      "60000/60000 [==============================] - 2s 38us/step - loss: 0.0419 - acc: 0.9885 - val_loss: 0.0835 - val_acc: 0.9738\n",
      "Epoch 14/20\n",
      "60000/60000 [==============================] - 2s 33us/step - loss: 0.0375 - acc: 0.9896 - val_loss: 0.0827 - val_acc: 0.9740\n",
      "Epoch 15/20\n",
      "60000/60000 [==============================] - 2s 35us/step - loss: 0.0338 - acc: 0.9908 - val_loss: 0.0842 - val_acc: 0.9757\n",
      "Epoch 16/20\n",
      "60000/60000 [==============================] - 2s 33us/step - loss: 0.0307 - acc: 0.9918 - val_loss: 0.0822 - val_acc: 0.9755\n",
      "Epoch 17/20\n",
      "60000/60000 [==============================] - 2s 33us/step - loss: 0.0284 - acc: 0.9924 - val_loss: 0.0847 - val_acc: 0.9744\n",
      "Epoch 18/20\n",
      "60000/60000 [==============================] - 2s 33us/step - loss: 0.0251 - acc: 0.9935 - val_loss: 0.0869 - val_acc: 0.9741\n",
      "Epoch 19/20\n",
      "60000/60000 [==============================] - 2s 33us/step - loss: 0.0228 - acc: 0.9942 - val_loss: 0.0912 - val_acc: 0.9733\n",
      "Epoch 20/20\n",
      "60000/60000 [==============================] - 2s 34us/step - loss: 0.0215 - acc: 0.9945 - val_loss: 0.0921 - val_acc: 0.9736\n",
      "Test score: [0.09214997687925351, 0.9736]\n",
      "Test accuracy: [0.09214997687925351, 0.9736]\n"
     ]
    }
   ],
   "source": [
    "history = model.fit(X_train, Y_train,\n",
    "                    batch_size=batch_size, nb_epoch=nb_epoch,\n",
    "                    verbose=1, validation_data=(X_test, Y_test))\n",
    "score = model.evaluate(X_test, Y_test, verbose=0)\n",
    "\n",
    "\n",
    "print('Test score:', score)\n",
    "print('Test accuracy:', score)"
   ]
  },
  {
   "cell_type": "code",
   "execution_count": 31,
   "metadata": {},
   "outputs": [],
   "source": [
    "n_hidden_layer = 4\n",
    "model1 = Sequential()"
   ]
  },
  {
   "cell_type": "code",
   "execution_count": 35,
   "metadata": {},
   "outputs": [],
   "source": [
    "model1.add(Dense(61,activation = \"relu\", input_shape = (784,)))\n",
    "for k in range(n_hidden_layer):\n",
    "    model1.add(Dense(64,activation = \"relu\"))\n",
    "    model1.add(Dropout(0.5))\n",
    "model1.add(Dense(nb_classes, activation = 'softmax',input_shape =(784,)))"
   ]
  },
  {
   "cell_type": "code",
   "execution_count": 36,
   "metadata": {},
   "outputs": [],
   "source": [
    "model1.compile(optimizer='adam',\n",
    "              loss='categorical_crossentropy',\n",
    "              metrics=['accuracy'])"
   ]
  },
  {
   "cell_type": "code",
   "execution_count": 37,
   "metadata": {},
   "outputs": [
    {
     "name": "stdout",
     "output_type": "stream",
     "text": [
      "_________________________________________________________________\n",
      "Layer (type)                 Output Shape              Param #   \n",
      "=================================================================\n",
      "dense_21 (Dense)             (None, 61)                47885     \n",
      "_________________________________________________________________\n",
      "dense_22 (Dense)             (None, 64)                3968      \n",
      "_________________________________________________________________\n",
      "dense_23 (Dense)             (None, 64)                4160      \n",
      "_________________________________________________________________\n",
      "dense_24 (Dense)             (None, 64)                4160      \n",
      "_________________________________________________________________\n",
      "dense_25 (Dense)             (None, 64)                4160      \n",
      "_________________________________________________________________\n",
      "dense_26 (Dense)             (None, 10)                650       \n",
      "_________________________________________________________________\n",
      "dense_27 (Dense)             (None, 61)                671       \n",
      "_________________________________________________________________\n",
      "dense_28 (Dense)             (None, 64)                3968      \n",
      "_________________________________________________________________\n",
      "dropout_8 (Dropout)          (None, 64)                0         \n",
      "_________________________________________________________________\n",
      "dense_29 (Dense)             (None, 64)                4160      \n",
      "_________________________________________________________________\n",
      "dropout_9 (Dropout)          (None, 64)                0         \n",
      "_________________________________________________________________\n",
      "dense_30 (Dense)             (None, 64)                4160      \n",
      "_________________________________________________________________\n",
      "dropout_10 (Dropout)         (None, 64)                0         \n",
      "_________________________________________________________________\n",
      "dense_31 (Dense)             (None, 64)                4160      \n",
      "_________________________________________________________________\n",
      "dropout_11 (Dropout)         (None, 64)                0         \n",
      "_________________________________________________________________\n",
      "dense_32 (Dense)             (None, 10)                650       \n",
      "=================================================================\n",
      "Total params: 82,752\n",
      "Trainable params: 82,752\n",
      "Non-trainable params: 0\n",
      "_________________________________________________________________\n"
     ]
    }
   ],
   "source": [
    "model1.summary()\n"
   ]
  },
  {
   "cell_type": "code",
   "execution_count": 38,
   "metadata": {},
   "outputs": [
    {
     "name": "stderr",
     "output_type": "stream",
     "text": [
      "c:\\users\\chentao\\appdata\\local\\programs\\python\\python36\\lib\\site-packages\\keras\\models.py:942: UserWarning: The `nb_epoch` argument in `fit` has been renamed `epochs`.\n",
      "  warnings.warn('The `nb_epoch` argument in `fit` '\n"
     ]
    },
    {
     "name": "stdout",
     "output_type": "stream",
     "text": [
      "Train on 60000 samples, validate on 10000 samples\n",
      "Epoch 1/20\n",
      "60000/60000 [==============================] - 5s 86us/step - loss: 1.6629 - acc: 0.3305 - val_loss: 0.9039 - val_acc: 0.6502\n",
      "Epoch 2/20\n",
      "60000/60000 [==============================] - 4s 68us/step - loss: 0.8506 - acc: 0.6669 - val_loss: 0.5739 - val_acc: 0.7719\n",
      "Epoch 3/20\n",
      "60000/60000 [==============================] - 4s 73us/step - loss: 0.6585 - acc: 0.7453 - val_loss: 0.5321 - val_acc: 0.7690\n",
      "Epoch 4/20\n",
      "60000/60000 [==============================] - 4s 71us/step - loss: 0.5617 - acc: 0.7876 - val_loss: 0.4530 - val_acc: 0.8568\n",
      "Epoch 5/20\n",
      "60000/60000 [==============================] - 4s 71us/step - loss: 0.4782 - acc: 0.8372 - val_loss: 0.3742 - val_acc: 0.8700\n",
      "Epoch 6/20\n",
      "60000/60000 [==============================] - 5s 75us/step - loss: 0.4197 - acc: 0.8542 - val_loss: 0.3506 - val_acc: 0.8880\n",
      "Epoch 7/20\n",
      "60000/60000 [==============================] - 4s 72us/step - loss: 0.3697 - acc: 0.8778 - val_loss: 0.3196 - val_acc: 0.9309\n",
      "Epoch 8/20\n",
      "60000/60000 [==============================] - 4s 73us/step - loss: 0.3062 - acc: 0.9272 - val_loss: 0.2480 - val_acc: 0.9531\n",
      "Epoch 9/20\n",
      "60000/60000 [==============================] - 4s 72us/step - loss: 0.2582 - acc: 0.9454 - val_loss: 0.2140 - val_acc: 0.9582\n",
      "Epoch 10/20\n",
      "60000/60000 [==============================] - 4s 71us/step - loss: 0.2345 - acc: 0.9513 - val_loss: 0.2096 - val_acc: 0.9603\n",
      "Epoch 11/20\n",
      "60000/60000 [==============================] - 4s 71us/step - loss: 0.2149 - acc: 0.9538 - val_loss: 0.2197 - val_acc: 0.9616\n",
      "Epoch 12/20\n",
      "60000/60000 [==============================] - 4s 67us/step - loss: 0.2135 - acc: 0.9557 - val_loss: 0.2340 - val_acc: 0.9613\n",
      "Epoch 13/20\n",
      "60000/60000 [==============================] - 4s 64us/step - loss: 0.2026 - acc: 0.9564 - val_loss: 0.1997 - val_acc: 0.9657\n",
      "Epoch 14/20\n",
      "60000/60000 [==============================] - 4s 66us/step - loss: 0.1977 - acc: 0.9572 - val_loss: 0.2223 - val_acc: 0.9559\n",
      "Epoch 15/20\n",
      "60000/60000 [==============================] - 4s 70us/step - loss: 0.1720 - acc: 0.9627 - val_loss: 0.2139 - val_acc: 0.9612\n",
      "Epoch 16/20\n",
      "60000/60000 [==============================] - 4s 69us/step - loss: 0.1638 - acc: 0.9658 - val_loss: 0.2230 - val_acc: 0.9645\n",
      "Epoch 17/20\n",
      "60000/60000 [==============================] - 4s 69us/step - loss: 0.1528 - acc: 0.9673 - val_loss: 0.2251 - val_acc: 0.9634\n",
      "Epoch 18/20\n",
      "60000/60000 [==============================] - 4s 68us/step - loss: 0.1543 - acc: 0.9666 - val_loss: 0.2225 - val_acc: 0.9590\n",
      "Epoch 19/20\n",
      "60000/60000 [==============================] - 4s 68us/step - loss: 0.1450 - acc: 0.9685 - val_loss: 0.2057 - val_acc: 0.9663\n",
      "Epoch 20/20\n",
      "60000/60000 [==============================] - 4s 73us/step - loss: 0.1437 - acc: 0.9695 - val_loss: 0.1929 - val_acc: 0.9710\n",
      "Test score: [0.19292054426390678, 0.971]\n",
      "Test accuracy: [0.19292054426390678, 0.971]\n"
     ]
    }
   ],
   "source": [
    "history = model1.fit(X_train, Y_train,\n",
    "                    batch_size=batch_size, nb_epoch=nb_epoch,\n",
    "                    verbose=1, validation_data=(X_test, Y_test))\n",
    "score = model1.evaluate(X_test, Y_test, verbose=0)\n",
    "\n",
    "\n",
    "print('Test score:', score)\n",
    "print('Test accuracy:', score)"
   ]
  },
  {
   "cell_type": "code",
   "execution_count": null,
   "metadata": {},
   "outputs": [],
   "source": []
  }
 ],
 "metadata": {
  "kernelspec": {
   "display_name": "Python 3",
   "language": "python",
   "name": "python3"
  },
  "language_info": {
   "codemirror_mode": {
    "name": "ipython",
    "version": 3
   },
   "file_extension": ".py",
   "mimetype": "text/x-python",
   "name": "python",
   "nbconvert_exporter": "python",
   "pygments_lexer": "ipython3",
   "version": "3.6.3"
  }
 },
 "nbformat": 4,
 "nbformat_minor": 2
}
